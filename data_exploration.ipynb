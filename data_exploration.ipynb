{
 "cells": [
  {
   "cell_type": "code",
   "execution_count": 1,
   "id": "3e442766-3059-40bf-ae4d-992db9d67fd7",
   "metadata": {},
   "outputs": [],
   "source": [
    "import pandas as pd\n",
    "import numpy as np\n",
    "from pathlib import Path\n",
    "\n",
    "np.random.seed(42)\n",
    "\n",
    "PROJECT_01_ROOT = \".\"\n",
    "DATA_DIR = Path(PROJECT_01_ROOT).joinpath(\"CreditApproval\")\n",
    "\n",
    "training_data = pd.read_csv(DATA_DIR.joinpath(\"training.data\"), header=None)\n",
    "test_data = pd.read_csv(DATA_DIR.joinpath(\"test.data\"), header=None)"
   ]
  },
  {
   "cell_type": "code",
   "execution_count": 2,
   "id": "dc898063-3661-43d2-9efb-e8125ec04709",
   "metadata": {},
   "outputs": [
    {
     "data": {
      "text/plain": [
       "550"
      ]
     },
     "execution_count": 2,
     "metadata": {},
     "output_type": "execute_result"
    }
   ],
   "source": [
    "len(training_data)"
   ]
  },
  {
   "cell_type": "code",
   "execution_count": 3,
   "id": "d9f01c97-9754-40fa-9996-ab12e2b435b1",
   "metadata": {},
   "outputs": [],
   "source": [
    "column_names = [\"A\" + str(i) for i in range(1, 17)] # A1 - A16\n",
    "training_data.columns = column_names\n",
    "test_data.columns = column_names"
   ]
  },
  {
   "cell_type": "code",
   "execution_count": 4,
   "id": "af08dffc-5af6-4809-bd7a-d12c13c4ec8e",
   "metadata": {},
   "outputs": [],
   "source": [
    "# pull labels off datasets\n",
    "training_labels = training_data[\"A16\"]\n",
    "test_labels = test_data[\"A16\"]\n",
    "\n",
    "clean_data = training_data.drop(\"A16\", axis=1)\n",
    "clean_test_data = test_data.drop(\"A16\", axis=1)"
   ]
  },
  {
   "cell_type": "markdown",
   "id": "409058bd-1100-45a1-9df2-15c89140e7ac",
   "metadata": {},
   "source": [
    "`training_data` will not be mutated. I will make copies and manipulate those to determine median values.\n",
    "\n",
    "`clean_data` will be mutated to replace missing values with median values for appropriate columns. \n",
    "\n",
    "The below function handles updating attributes with their median values."
   ]
  },
  {
   "cell_type": "code",
   "execution_count": 5,
   "id": "36e5533a-e95a-497c-9161-5e270009466d",
   "metadata": {},
   "outputs": [],
   "source": [
    "def update_attribute_w_median(attribute, is_numeric):\n",
    "    \"\"\"fills missing w median value for attribute, returns updated column\"\"\"\n",
    "    # get a copy of dataset which lacks the missing values\n",
    "    training_copy = training_data.copy()\n",
    "    if not is_numeric:\n",
    "        # cut missing values from copied training set when finding median\n",
    "        training_copy = training_copy[training_copy[attribute] != \"?\"]\n",
    "        attribute_values = training_copy[attribute].sort_values()\n",
    "        attribute_median = attribute_values[len(attribute_values) // 2]\n",
    "        \n",
    "        # return col from original training set with replacement\n",
    "        return training_data[attribute].replace(\"?\", attribute_median)\n",
    "    else:\n",
    "        training_copy[attribute] = pd.to_numeric(training_copy[attribute], errors=\"coerce\")\n",
    "        attribute_median = training_copy[attribute].median()\n",
    "        training_copy[attribute] = training_copy[attribute].fillna(attribute_median)\n",
    "        return training_copy[attribute]"
   ]
  },
  {
   "cell_type": "code",
   "execution_count": 6,
   "id": "4f71f91b-f729-4b24-a71d-fc8ee8b936b6",
   "metadata": {},
   "outputs": [
    {
     "data": {
      "text/plain": [
       "['A1', 'A2', 'A4', 'A5', 'A6', 'A7', 'A14']"
      ]
     },
     "execution_count": 6,
     "metadata": {},
     "output_type": "execute_result"
    }
   ],
   "source": [
    "cols_with_missing_vals = training_data.columns[training_data.eq(\"?\").any(axis=0)].tolist()\n",
    "cols_with_missing_vals"
   ]
  },
  {
   "cell_type": "code",
   "execution_count": 7,
   "id": "6e5473ea-9378-47b4-bb3b-6d81b238130a",
   "metadata": {},
   "outputs": [],
   "source": [
    "# below dict includes keys for each column with missing values\n",
    "# the key is attribute name and value represents whether it is_numeric\n",
    "missing_attributes = {\n",
    "    \"A1\": False,\n",
    "    \"A2\": True,\n",
    "    \"A4\": False,\n",
    "    \"A5\": False,\n",
    "    \"A6\": False,\n",
    "    \"A7\": False,\n",
    "    \"A14\": True,\n",
    "}\n",
    "\n",
    "# call my custom function to update all columns in the clean_data df\n",
    "for attribute, is_numeric in missing_attributes.items():\n",
    "    filled_column = update_attribute_w_median(attribute, is_numeric)\n",
    "    clean_data[attribute] = filled_column\n",
    "\n",
    "for attribute, is_numeric in missing_attributes.items():\n",
    "    filled_column = update_attribute_w_median(attribute, is_numeric)\n",
    "    test_data[attribute] = filled_column\n",
    "\n",
    "assert clean_data[\"A14\"].dtype == 'float64'\n",
    "assert test_data[\"A14\"].dtype == 'float64'"
   ]
  },
  {
   "cell_type": "markdown",
   "id": "f56b01e6-4ed8-4e37-bdd4-a92d9d9aa6b6",
   "metadata": {},
   "source": [
    "At this stage, `clean_data` has been updated to replace all missing values with the appropriate median value. Now we can extract the datasets which will be relevant to our decision tree creation."
   ]
  },
  {
   "cell_type": "code",
   "execution_count": 8,
   "id": "18ac3c45-0cfa-40fc-89a6-b994c6812755",
   "metadata": {
    "editable": true,
    "slideshow": {
     "slide_type": ""
    },
    "tags": []
   },
   "outputs": [],
   "source": [
    "def sequentially_cross_validate(examples, labels, k=10):\n",
    "    fold_size = len(examples) // k\n",
    "    fold_msg = []\n",
    "    print(f\"cv {len(examples)} across {k} sets. folds are {fold_size} examples.\")\n",
    "    for i in range(k):\n",
    "        # determine sequential indices for validation set\n",
    "        v_start = i * fold_size\n",
    "        v_end = (i + 1) * fold_size if i != k-1 else len(examples)\n",
    "        \n",
    "        X_validation = examples.iloc[v_start:v_end]\n",
    "        y_validation = labels.iloc[v_start:v_end]\n",
    "\n",
    "        # grab remaining data for training set\n",
    "        X_train = pd.concat([examples.iloc[:v_start], examples.iloc[v_end:]])\n",
    "        y_train = pd.concat([labels.iloc[:v_start], labels.iloc[v_end:]])\n",
    "\n",
    "        print(f\"Fold {i}\\n\\tValidation from {v_start} to {v_end - 1} of len {len(X_validation)}\")\n",
    "        # train the model on training set\n",
    "        # run prediction on validation set\n",
    "        \n"
   ]
  },
  {
   "cell_type": "code",
   "execution_count": 9,
   "id": "c06e1935-1ce8-4f26-8f40-431a2f14a315",
   "metadata": {
    "editable": true,
    "slideshow": {
     "slide_type": ""
    },
    "tags": []
   },
   "outputs": [],
   "source": [
    "dataset = pd.concat(axis=1,objs=[clean_data, training_labels])"
   ]
  },
  {
   "cell_type": "code",
   "execution_count": 10,
   "id": "feb37d7d-3602-4c0e-9f85-13571b595c16",
   "metadata": {
    "editable": true,
    "slideshow": {
     "slide_type": ""
    },
    "tags": []
   },
   "outputs": [
    {
     "data": {
      "text/plain": [
       "<decision_tree.DecisionTreeNode at 0x7ffffd189cf0>"
      ]
     },
     "execution_count": 10,
     "metadata": {},
     "output_type": "execute_result"
    }
   ],
   "source": [
    "from decision_tree import DecisionTreeNode\n",
    "\n",
    "quinlan_tree = DecisionTreeNode(algorithm=\"C4.5\")\n",
    "dataset = pd.concat(axis=1,objs=[clean_data, training_labels])\n",
    "quinlan_tree.build_decision_tree(dataset)"
   ]
  },
  {
   "cell_type": "code",
   "execution_count": 11,
   "id": "feeab4bd-0891-421b-83db-0146b6dcf830",
   "metadata": {},
   "outputs": [
    {
     "data": {
      "text/plain": [
       "0      -\n",
       "1      -\n",
       "2      -\n",
       "3      -\n",
       "4      +\n",
       "      ..\n",
       "135    +\n",
       "136    +\n",
       "137    +\n",
       "138    +\n",
       "139    +\n",
       "Length: 140, dtype: object"
      ]
     },
     "execution_count": 11,
     "metadata": {},
     "output_type": "execute_result"
    }
   ],
   "source": [
    "# quinlan_tree.predicted_value\n",
    "res = quinlan_tree.predict(test_data)\n",
    "res"
   ]
  },
  {
   "cell_type": "code",
   "execution_count": 12,
   "id": "edbe11d4-9f67-4578-9401-b2e04f5d9e8a",
   "metadata": {
    "editable": true,
    "slideshow": {
     "slide_type": ""
    },
    "tags": []
   },
   "outputs": [
    {
     "data": {
      "text/plain": [
       "<decision_tree.DecisionTreeNode at 0x7fffe051f6d0>"
      ]
     },
     "execution_count": 12,
     "metadata": {},
     "output_type": "execute_result"
    }
   ],
   "source": [
    "cart_tree = DecisionTreeNode(algorithm=\"CART\")\n",
    "dataset = pd.concat(axis=1,objs=[clean_data, training_labels])\n",
    "cart_tree.build_decision_tree(dataset)"
   ]
  },
  {
   "cell_type": "code",
   "execution_count": 13,
   "id": "22393f32-6ee4-45fe-ba62-de9063990bd3",
   "metadata": {},
   "outputs": [
    {
     "ename": "KeyError",
     "evalue": "'ff'",
     "output_type": "error",
     "traceback": [
      "\u001b[0;31m---------------------------------------------------------------------------\u001b[0m",
      "\u001b[0;31mKeyError\u001b[0m                                  Traceback (most recent call last)",
      "Cell \u001b[0;32mIn[13], line 1\u001b[0m\n\u001b[0;32m----> 1\u001b[0m res \u001b[38;5;241m=\u001b[39m \u001b[43mcart_tree\u001b[49m\u001b[38;5;241;43m.\u001b[39;49m\u001b[43mpredict\u001b[49m\u001b[43m(\u001b[49m\u001b[43mtest_data\u001b[49m\u001b[43m)\u001b[49m\n\u001b[1;32m      2\u001b[0m res\n",
      "File \u001b[0;32m~/handson-ml3/projects/01-project-decision-trees/decision_tree.py:152\u001b[0m, in \u001b[0;36mDecisionTreeNode.predict\u001b[0;34m(self, dataset)\u001b[0m\n\u001b[1;32m    150\u001b[0m \u001b[38;5;28;01mif\u001b[39;00m \u001b[38;5;28mself\u001b[39m\u001b[38;5;241m.\u001b[39mthreshold \u001b[38;5;129;01mis\u001b[39;00m \u001b[38;5;28;01mNone\u001b[39;00m \u001b[38;5;129;01mand\u001b[39;00m \u001b[38;5;28mself\u001b[39m\u001b[38;5;241m.\u001b[39mchildren \u001b[38;5;129;01mis\u001b[39;00m \u001b[38;5;28;01mNone\u001b[39;00m:\n\u001b[1;32m    151\u001b[0m     \u001b[38;5;28;01mraise\u001b[39;00m \u001b[38;5;167;01mException\u001b[39;00m(\u001b[38;5;124m\"\u001b[39m\u001b[38;5;124mtree must be built before predicting\u001b[39m\u001b[38;5;124m\"\u001b[39m)\n\u001b[0;32m--> 152\u001b[0m \u001b[38;5;28;01mreturn\u001b[39;00m \u001b[43mdataset\u001b[49m\u001b[38;5;241;43m.\u001b[39;49m\u001b[43mapply\u001b[49m\u001b[43m(\u001b[49m\u001b[38;5;28;43;01mlambda\u001b[39;49;00m\u001b[43m \u001b[49m\u001b[43mexample\u001b[49m\u001b[43m:\u001b[49m\u001b[43m \u001b[49m\u001b[38;5;28;43mself\u001b[39;49m\u001b[38;5;241;43m.\u001b[39;49m\u001b[43m_predict_example\u001b[49m\u001b[43m(\u001b[49m\u001b[43mexample\u001b[49m\u001b[43m)\u001b[49m\u001b[43m,\u001b[49m\u001b[43m \u001b[49m\u001b[43maxis\u001b[49m\u001b[38;5;241;43m=\u001b[39;49m\u001b[38;5;241;43m1\u001b[39;49m\u001b[43m)\u001b[49m\n",
      "File \u001b[0;32m/opt/conda/envs/homl3/lib/python3.10/site-packages/pandas/core/frame.py:10034\u001b[0m, in \u001b[0;36mDataFrame.apply\u001b[0;34m(self, func, axis, raw, result_type, args, by_row, **kwargs)\u001b[0m\n\u001b[1;32m  10022\u001b[0m \u001b[38;5;28;01mfrom\u001b[39;00m \u001b[38;5;21;01mpandas\u001b[39;00m\u001b[38;5;21;01m.\u001b[39;00m\u001b[38;5;21;01mcore\u001b[39;00m\u001b[38;5;21;01m.\u001b[39;00m\u001b[38;5;21;01mapply\u001b[39;00m \u001b[38;5;28;01mimport\u001b[39;00m frame_apply\n\u001b[1;32m  10024\u001b[0m op \u001b[38;5;241m=\u001b[39m frame_apply(\n\u001b[1;32m  10025\u001b[0m     \u001b[38;5;28mself\u001b[39m,\n\u001b[1;32m  10026\u001b[0m     func\u001b[38;5;241m=\u001b[39mfunc,\n\u001b[0;32m   (...)\u001b[0m\n\u001b[1;32m  10032\u001b[0m     kwargs\u001b[38;5;241m=\u001b[39mkwargs,\n\u001b[1;32m  10033\u001b[0m )\n\u001b[0;32m> 10034\u001b[0m \u001b[38;5;28;01mreturn\u001b[39;00m \u001b[43mop\u001b[49m\u001b[38;5;241;43m.\u001b[39;49m\u001b[43mapply\u001b[49m\u001b[43m(\u001b[49m\u001b[43m)\u001b[49m\u001b[38;5;241m.\u001b[39m__finalize__(\u001b[38;5;28mself\u001b[39m, method\u001b[38;5;241m=\u001b[39m\u001b[38;5;124m\"\u001b[39m\u001b[38;5;124mapply\u001b[39m\u001b[38;5;124m\"\u001b[39m)\n",
      "File \u001b[0;32m/opt/conda/envs/homl3/lib/python3.10/site-packages/pandas/core/apply.py:837\u001b[0m, in \u001b[0;36mFrameApply.apply\u001b[0;34m(self)\u001b[0m\n\u001b[1;32m    834\u001b[0m \u001b[38;5;28;01melif\u001b[39;00m \u001b[38;5;28mself\u001b[39m\u001b[38;5;241m.\u001b[39mraw:\n\u001b[1;32m    835\u001b[0m     \u001b[38;5;28;01mreturn\u001b[39;00m \u001b[38;5;28mself\u001b[39m\u001b[38;5;241m.\u001b[39mapply_raw()\n\u001b[0;32m--> 837\u001b[0m \u001b[38;5;28;01mreturn\u001b[39;00m \u001b[38;5;28;43mself\u001b[39;49m\u001b[38;5;241;43m.\u001b[39;49m\u001b[43mapply_standard\u001b[49m\u001b[43m(\u001b[49m\u001b[43m)\u001b[49m\n",
      "File \u001b[0;32m/opt/conda/envs/homl3/lib/python3.10/site-packages/pandas/core/apply.py:965\u001b[0m, in \u001b[0;36mFrameApply.apply_standard\u001b[0;34m(self)\u001b[0m\n\u001b[1;32m    964\u001b[0m \u001b[38;5;28;01mdef\u001b[39;00m \u001b[38;5;21mapply_standard\u001b[39m(\u001b[38;5;28mself\u001b[39m):\n\u001b[0;32m--> 965\u001b[0m     results, res_index \u001b[38;5;241m=\u001b[39m \u001b[38;5;28;43mself\u001b[39;49m\u001b[38;5;241;43m.\u001b[39;49m\u001b[43mapply_series_generator\u001b[49m\u001b[43m(\u001b[49m\u001b[43m)\u001b[49m\n\u001b[1;32m    967\u001b[0m     \u001b[38;5;66;03m# wrap results\u001b[39;00m\n\u001b[1;32m    968\u001b[0m     \u001b[38;5;28;01mreturn\u001b[39;00m \u001b[38;5;28mself\u001b[39m\u001b[38;5;241m.\u001b[39mwrap_results(results, res_index)\n",
      "File \u001b[0;32m/opt/conda/envs/homl3/lib/python3.10/site-packages/pandas/core/apply.py:981\u001b[0m, in \u001b[0;36mFrameApply.apply_series_generator\u001b[0;34m(self)\u001b[0m\n\u001b[1;32m    978\u001b[0m \u001b[38;5;28;01mwith\u001b[39;00m option_context(\u001b[38;5;124m\"\u001b[39m\u001b[38;5;124mmode.chained_assignment\u001b[39m\u001b[38;5;124m\"\u001b[39m, \u001b[38;5;28;01mNone\u001b[39;00m):\n\u001b[1;32m    979\u001b[0m     \u001b[38;5;28;01mfor\u001b[39;00m i, v \u001b[38;5;129;01min\u001b[39;00m \u001b[38;5;28menumerate\u001b[39m(series_gen):\n\u001b[1;32m    980\u001b[0m         \u001b[38;5;66;03m# ignore SettingWithCopy here in case the user mutates\u001b[39;00m\n\u001b[0;32m--> 981\u001b[0m         results[i] \u001b[38;5;241m=\u001b[39m \u001b[38;5;28;43mself\u001b[39;49m\u001b[38;5;241;43m.\u001b[39;49m\u001b[43mfunc\u001b[49m\u001b[43m(\u001b[49m\u001b[43mv\u001b[49m\u001b[43m,\u001b[49m\u001b[43m \u001b[49m\u001b[38;5;241;43m*\u001b[39;49m\u001b[38;5;28;43mself\u001b[39;49m\u001b[38;5;241;43m.\u001b[39;49m\u001b[43margs\u001b[49m\u001b[43m,\u001b[49m\u001b[43m \u001b[49m\u001b[38;5;241;43m*\u001b[39;49m\u001b[38;5;241;43m*\u001b[39;49m\u001b[38;5;28;43mself\u001b[39;49m\u001b[38;5;241;43m.\u001b[39;49m\u001b[43mkwargs\u001b[49m\u001b[43m)\u001b[49m\n\u001b[1;32m    982\u001b[0m         \u001b[38;5;28;01mif\u001b[39;00m \u001b[38;5;28misinstance\u001b[39m(results[i], ABCSeries):\n\u001b[1;32m    983\u001b[0m             \u001b[38;5;66;03m# If we have a view on v, we need to make a copy because\u001b[39;00m\n\u001b[1;32m    984\u001b[0m             \u001b[38;5;66;03m#  series_generator will swap out the underlying data\u001b[39;00m\n\u001b[1;32m    985\u001b[0m             results[i] \u001b[38;5;241m=\u001b[39m results[i]\u001b[38;5;241m.\u001b[39mcopy(deep\u001b[38;5;241m=\u001b[39m\u001b[38;5;28;01mFalse\u001b[39;00m)\n",
      "File \u001b[0;32m~/handson-ml3/projects/01-project-decision-trees/decision_tree.py:152\u001b[0m, in \u001b[0;36mDecisionTreeNode.predict.<locals>.<lambda>\u001b[0;34m(example)\u001b[0m\n\u001b[1;32m    150\u001b[0m \u001b[38;5;28;01mif\u001b[39;00m \u001b[38;5;28mself\u001b[39m\u001b[38;5;241m.\u001b[39mthreshold \u001b[38;5;129;01mis\u001b[39;00m \u001b[38;5;28;01mNone\u001b[39;00m \u001b[38;5;129;01mand\u001b[39;00m \u001b[38;5;28mself\u001b[39m\u001b[38;5;241m.\u001b[39mchildren \u001b[38;5;129;01mis\u001b[39;00m \u001b[38;5;28;01mNone\u001b[39;00m:\n\u001b[1;32m    151\u001b[0m     \u001b[38;5;28;01mraise\u001b[39;00m \u001b[38;5;167;01mException\u001b[39;00m(\u001b[38;5;124m\"\u001b[39m\u001b[38;5;124mtree must be built before predicting\u001b[39m\u001b[38;5;124m\"\u001b[39m)\n\u001b[0;32m--> 152\u001b[0m \u001b[38;5;28;01mreturn\u001b[39;00m dataset\u001b[38;5;241m.\u001b[39mapply(\u001b[38;5;28;01mlambda\u001b[39;00m example: \u001b[38;5;28;43mself\u001b[39;49m\u001b[38;5;241;43m.\u001b[39;49m\u001b[43m_predict_example\u001b[49m\u001b[43m(\u001b[49m\u001b[43mexample\u001b[49m\u001b[43m)\u001b[49m, axis\u001b[38;5;241m=\u001b[39m\u001b[38;5;241m1\u001b[39m)\n",
      "File \u001b[0;32m~/handson-ml3/projects/01-project-decision-trees/decision_tree.py:168\u001b[0m, in \u001b[0;36mDecisionTreeNode._predict_example\u001b[0;34m(self, example)\u001b[0m\n\u001b[1;32m    166\u001b[0m             node \u001b[38;5;241m=\u001b[39m node\u001b[38;5;241m.\u001b[39mright\n\u001b[1;32m    167\u001b[0m     \u001b[38;5;28;01melse\u001b[39;00m:  \u001b[38;5;66;03m# categorical split\u001b[39;00m\n\u001b[0;32m--> 168\u001b[0m         node \u001b[38;5;241m=\u001b[39m \u001b[43mnode\u001b[49m\u001b[38;5;241;43m.\u001b[39;49m\u001b[43mchildren\u001b[49m\u001b[43m[\u001b[49m\n\u001b[1;32m    169\u001b[0m \u001b[43m            \u001b[49m\u001b[43mexample\u001b[49m\u001b[43m[\u001b[49m\u001b[43mnode\u001b[49m\u001b[38;5;241;43m.\u001b[39;49m\u001b[43mattribute\u001b[49m\u001b[43m]\u001b[49m\n\u001b[1;32m    170\u001b[0m \u001b[43m        \u001b[49m\u001b[43m]\u001b[49m  \u001b[38;5;66;03m# children are keyed on unique attr value\u001b[39;00m\n\u001b[1;32m    171\u001b[0m         \u001b[38;5;66;03m# do i need to handle a case where child isn't present? how?\u001b[39;00m\n\u001b[1;32m    172\u001b[0m \u001b[38;5;28;01mreturn\u001b[39;00m node\u001b[38;5;241m.\u001b[39mpredicted_value\n",
      "\u001b[0;31mKeyError\u001b[0m: 'ff'"
     ]
    }
   ],
   "source": [
    "res = cart_tree.predict(test_data)\n",
    "res"
   ]
  },
  {
   "cell_type": "code",
   "execution_count": 13,
   "id": "269b2978-634f-4d7f-9908-f7efd8e7504a",
   "metadata": {},
   "outputs": [
    {
     "name": "stdout",
     "output_type": "stream",
     "text": [
      "[Split on A9]\n",
      "--> A9 = f:\n",
      "    [A2 <= 70.53999999999999]\n",
      "    --> Left:\n",
      "        [A15 <= 52776.0]\n",
      "        --> Left:\n",
      "            [A3 <= 0.1675]\n",
      "            --> Left:\n",
      "                [A14 <= 480.0]\n",
      "                --> Left:\n",
      "                    [A14 <= 280.0]\n",
      "                    --> Left:\n",
      "                        [A8 <= 1.25]\n",
      "                        --> Left:\n",
      "                            [A2 <= 16.21]\n",
      "                            --> Left:\n",
      "                                Predict: +\n",
      "                            --> Right:\n",
      "                                [A14 <= 152.0]\n",
      "                                --> Left:\n",
      "                                    Predict: -\n",
      "                                --> Right:\n",
      "                                    [Split on A4]\n",
      "                                    --> A4 = u:\n",
      "                                        [A2 <= 21.795]\n",
      "                                        --> Left:\n",
      "                                            [A2 <= 20.25]\n",
      "                                            --> Left:\n",
      "                                                Predict: +\n",
      "                                            --> Right:\n",
      "                                                Predict: -\n",
      "                                        --> Right:\n",
      "                                            Predict: +\n",
      "                                    --> A4 = y:\n",
      "                                        Predict: -\n",
      "                        --> Right:\n",
      "                            Predict: +\n",
      "                    --> Right:\n",
      "                        Predict: -\n",
      "                --> Right:\n",
      "                    Predict: +\n",
      "            --> Right:\n",
      "                [A8 <= 2.4375]\n",
      "                --> Left:\n",
      "                    [A15 <= 5.5]\n",
      "                    --> Left:\n",
      "                        Predict: -\n",
      "                    --> Right:\n",
      "                        [A15 <= 9.0]\n",
      "                        --> Left:\n",
      "                            [A2 <= 29.5]\n",
      "                            --> Left:\n",
      "                                [A15 <= 7.5]\n",
      "                                --> Left:\n",
      "                                    Predict: -\n",
      "                                --> Right:\n",
      "                                    Predict: +\n",
      "                            --> Right:\n",
      "                                Predict: +\n",
      "                        --> Right:\n",
      "                            [A2 <= 32.96]\n",
      "                            --> Left:\n",
      "                                Predict: -\n",
      "                            --> Right:\n",
      "                                [A2 <= 33.875]\n",
      "                                --> Left:\n",
      "                                    Predict: +\n",
      "                                --> Right:\n",
      "                                    [A15 <= 1845.0]\n",
      "                                    --> Left:\n",
      "                                        Predict: -\n",
      "                                    --> Right:\n",
      "                                        [A2 <= 42.125]\n",
      "                                        --> Left:\n",
      "                                            Predict: -\n",
      "                                        --> Right:\n",
      "                                            Predict: +\n",
      "                --> Right:\n",
      "                    [A2 <= 20.125]\n",
      "                    --> Left:\n",
      "                        Predict: +\n",
      "                    --> Right:\n",
      "                        [A8 <= 2.48]\n",
      "                        --> Left:\n",
      "                            Predict: +\n",
      "                        --> Right:\n",
      "                            [A14 <= 595.5]\n",
      "                            --> Left:\n",
      "                                [A3 <= 1.77]\n",
      "                                --> Left:\n",
      "                                    [A3 <= 1.395]\n",
      "                                    --> Left:\n",
      "                                        Predict: -\n",
      "                                    --> Right:\n",
      "                                        Predict: +\n",
      "                                --> Right:\n",
      "                                    Predict: -\n",
      "                            --> Right:\n",
      "                                Predict: +\n",
      "        --> Right:\n",
      "            Predict: +\n",
      "    --> Right:\n",
      "        Predict: +\n",
      "--> A9 = t:\n",
      "    [A2 <= 78.5]\n",
      "    --> Left:\n",
      "        [A15 <= 229.5]\n",
      "        --> Left:\n",
      "            [A15 <= 205.0]\n",
      "            --> Left:\n",
      "                [A3 <= 0.3125]\n",
      "                --> Left:\n",
      "                    Predict: +\n",
      "                --> Right:\n",
      "                    [A2 <= 64.375]\n",
      "                    --> Left:\n",
      "                        [A2 <= 61.71]\n",
      "                        --> Left:\n",
      "                            [A2 <= 56.085]\n",
      "                            --> Left:\n",
      "                                [A3 <= 15.25]\n",
      "                                --> Left:\n",
      "                                    [A14 <= 125.5]\n",
      "                                    --> Left:\n",
      "                                        [A2 <= 54.835]\n",
      "                                        --> Left:\n",
      "                                            [A15 <= 17.5]\n",
      "                                            --> Left:\n",
      "                                                [Split on A4]\n",
      "                                                --> A4 = u:\n",
      "                                                    [A8 <= 0.02]\n",
      "                                                    --> Left:\n",
      "                                                        [Split on A1]\n",
      "                                                        --> A1 = a:\n",
      "                                                            Predict: -\n",
      "                                                        --> A1 = b:\n",
      "                                                            Predict: +\n",
      "                                                    --> Right:\n",
      "                                                        Predict: +\n",
      "                                                --> A4 = y:\n",
      "                                                    [A2 <= 25.25]\n",
      "                                                    --> Left:\n",
      "                                                        Predict: +\n",
      "                                                    --> Right:\n",
      "                                                        Predict: -\n",
      "                                            --> Right:\n",
      "                                                [A2 <= 19.795]\n",
      "                                                --> Left:\n",
      "                                                    Predict: -\n",
      "                                                --> Right:\n",
      "                                                    [A2 <= 31.585]\n",
      "                                                    --> Left:\n",
      "                                                        Predict: +\n",
      "                                                    --> Right:\n",
      "                                                        Predict: -\n",
      "                                        --> Right:\n",
      "                                            Predict: -\n",
      "                                    --> Right:\n",
      "                                        [A15 <= 148.5]\n",
      "                                        --> Left:\n",
      "                                            [A14 <= 142.5]\n",
      "                                            --> Left:\n",
      "                                                Predict: -\n",
      "                                            --> Right:\n",
      "                                                [A8 <= 10.375]\n",
      "                                                --> Left:\n",
      "                                                    [A14 <= 507.0]\n",
      "                                                    --> Left:\n",
      "                                                        [A11 <= 4.0]\n",
      "                                                        --> Left:\n",
      "                                                            [A3 <= 2.395]\n",
      "                                                            --> Left:\n",
      "                                                                [Split on A4]\n",
      "                                                                --> A4 = u:\n",
      "                                                                    [A15 <= 10.5]\n",
      "                                                                    --> Left:\n",
      "                                                                        [A2 <= 42.955]\n",
      "                                                                        --> Left:\n",
      "                                                                            [A14 <= 445.5]\n",
      "                                                                            --> Left:\n",
      "                                                                                [A8 <= 0.6675]\n",
      "                                                                                --> Left:\n",
      "                                                                                    Predict: -\n",
      "                                                                                --> Right:\n",
      "                                                                                    [Split on A1]\n",
      "                                                                                    --> A1 = a:\n",
      "                                                                                        Predict: -\n",
      "                                                                                    --> A1 = b:\n",
      "                                                                                        Predict: +\n",
      "                                                                            --> Right:\n",
      "                                                                                Predict: +\n",
      "                                                                        --> Right:\n",
      "                                                                            Predict: +\n",
      "                                                                    --> Right:\n",
      "                                                                        Predict: +\n",
      "                                                                --> A4 = y:\n",
      "                                                                    Predict: -\n",
      "                                                            --> Right:\n",
      "                                                                [A2 <= 37.04]\n",
      "                                                                --> Left:\n",
      "                                                                    [A2 <= 33.585]\n",
      "                                                                    --> Left:\n",
      "                                                                        [Split on A12]\n",
      "                                                                        --> A12 = f:\n",
      "                                                                            Predict: +\n",
      "                                                                        --> A12 = t:\n",
      "                                                                            [A3 <= 10.0]\n",
      "                                                                            --> Left:\n",
      "                                                                                [Split on A13]\n",
      "                                                                                --> A13 = g:\n",
      "                                                                                    [A3 <= 3.645]\n",
      "                                                                                    --> Left:\n",
      "                                                                                        [A3 <= 3.3325]\n",
      "                                                                                        --> Left:\n",
      "                                                                                            Predict: +\n",
      "                                                                                        --> Right:\n",
      "                                                                                            Predict: -\n",
      "                                                                                    --> Right:\n",
      "                                                                                        Predict: +\n",
      "                                                                                --> A13 = s:\n",
      "                                                                                    Predict: -\n",
      "                                                                            --> Right:\n",
      "                                                                                Predict: -\n",
      "                                                                    --> Right:\n",
      "                                                                        Predict: -\n",
      "                                                                --> Right:\n",
      "                                                                    Predict: +\n",
      "                                                        --> Right:\n",
      "                                                            Predict: +\n",
      "                                                    --> Right:\n",
      "                                                        Predict: -\n",
      "                                                --> Right:\n",
      "                                                    Predict: -\n",
      "                                        --> Right:\n",
      "                                            Predict: +\n",
      "                                --> Right:\n",
      "                                    Predict: -\n",
      "                            --> Right:\n",
      "                                Predict: +\n",
      "                        --> Right:\n",
      "                            Predict: -\n",
      "                    --> Right:\n",
      "                        Predict: +\n",
      "            --> Right:\n",
      "                Predict: -\n",
      "        --> Right:\n",
      "            [A15 <= 995.0]\n",
      "            --> Left:\n",
      "                [A15 <= 975.0]\n",
      "                --> Left:\n",
      "                    [A3 <= 1.875]\n",
      "                    --> Left:\n",
      "                        [A3 <= 1.7075]\n",
      "                        --> Left:\n",
      "                            [Split on A12]\n",
      "                            --> A12 = f:\n",
      "                                Predict: +\n",
      "                            --> A12 = t:\n",
      "                                [A2 <= 23.5]\n",
      "                                --> Left:\n",
      "                                    Predict: +\n",
      "                                --> Right:\n",
      "                                    Predict: -\n",
      "                        --> Right:\n",
      "                            Predict: -\n",
      "                    --> Right:\n",
      "                        Predict: +\n",
      "                --> Right:\n",
      "                    Predict: -\n",
      "            --> Right:\n",
      "                Predict: +\n",
      "    --> Right:\n",
      "        Predict: -\n"
     ]
    }
   ],
   "source": [
    "quinlan_tree.print_tree()"
   ]
  },
  {
   "cell_type": "code",
   "execution_count": null,
   "id": "c86c7d40-00a0-44bb-b81e-454edc184f22",
   "metadata": {},
   "outputs": [],
   "source": []
  }
 ],
 "metadata": {
  "kernelspec": {
   "display_name": "Python 3 (ipykernel)",
   "language": "python",
   "name": "python3"
  },
  "language_info": {
   "codemirror_mode": {
    "name": "ipython",
    "version": 3
   },
   "file_extension": ".py",
   "mimetype": "text/x-python",
   "name": "python",
   "nbconvert_exporter": "python",
   "pygments_lexer": "ipython3",
   "version": "3.10.13"
  }
 },
 "nbformat": 4,
 "nbformat_minor": 5
}
